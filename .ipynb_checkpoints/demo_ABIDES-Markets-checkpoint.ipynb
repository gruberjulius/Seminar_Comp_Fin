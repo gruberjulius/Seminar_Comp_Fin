{
 "cells": [
  {
   "cell_type": "markdown",
   "metadata": {},
   "source": [
    "This is a tutorial for basic use of abides_markets simulation.\n",
    "It uses the simulator directly without the OpenAI Gym interface"
   ]
  },
  {
   "cell_type": "code",
   "execution_count": 3,
   "metadata": {},
   "outputs": [],
   "source": [
    "import numpy as np\n",
    "import pandas as pd\n",
    "from matplotlib import pyplot as plt\n",
    "import ipywidgets as widgets\n",
    "from IPython.display import display\n",
    "\n",
    "\n",
    "from abides_core import abides\n",
    "from abides_core.utils import parse_logs_df, ns_date, str_to_ns, fmt_ts\n",
    "from abides_markets.configs import rmsc01, rmsc02, rmsc03, rmsc05, rmsc04, rmsc06"
   ]
  },
  {
   "cell_type": "code",
   "execution_count": 4,
   "metadata": {},
   "outputs": [],
   "source": [
    "import os\n",
    "from datetime import datetime\n",
    "\n",
    "import numpy as np\n",
    "import pandas as pd\n",
    "\n",
    "from abides_core.utils import get_wake_time, str_to_ns\n",
    "from abides_markets.agents import (\n",
    "    ExchangeAgent,\n",
    "    NoiseAgent,\n",
    "    ValueAgent,\n",
    "    AdaptiveMarketMakerAgent,\n",
    "    MomentumAgent,\n",
    ")\n",
    "from abides_markets.models import OrderSizeModel\n",
    "from abides_markets.oracles import SparseMeanRevertingOracle\n",
    "from abides_markets.utils import generate_latency_model"
   ]
  },
  {
   "cell_type": "markdown",
   "metadata": {},
   "source": [
    "## Set Parameters"
   ]
  },
  {
   "cell_type": "code",
   "execution_count": 5,
   "metadata": {},
   "outputs": [
    {
     "data": {
      "application/vnd.jupyter.widget-view+json": {
       "model_id": "b4afb627141a4b88af82b96c872cf478",
       "version_major": 2,
       "version_minor": 0
      },
      "text/plain": [
       "IntSlider(value=2, description='Market Making Agents', max=10, min=1)"
      ]
     },
     "metadata": {},
     "output_type": "display_data"
    },
    {
     "data": {
      "application/vnd.jupyter.widget-view+json": {
       "model_id": "3585533128e045618b46ad4fb15a3275",
       "version_major": 2,
       "version_minor": 0
      },
      "text/plain": [
       "IntSlider(value=102, description='Value Agents', max=1000)"
      ]
     },
     "metadata": {},
     "output_type": "display_data"
    },
    {
     "data": {
      "application/vnd.jupyter.widget-view+json": {
       "model_id": "438ef4a6718a437ca61152abd39692f8",
       "version_major": 2,
       "version_minor": 0
      },
      "text/plain": [
       "IntSlider(value=12, description='Momentum Agents', max=200)"
      ]
     },
     "metadata": {},
     "output_type": "display_data"
    },
    {
     "data": {
      "application/vnd.jupyter.widget-view+json": {
       "model_id": "c4a1dd9f2c894f3d800ee538d506206a",
       "version_major": 2,
       "version_minor": 0
      },
      "text/plain": [
       "IntSlider(value=1000, description='Noise Agents', max=10000)"
      ]
     },
     "metadata": {},
     "output_type": "display_data"
    }
   ],
   "source": [
    "int_slider = widgets.IntSlider(min=1, max=10, value=2, step=1, description=\"Market Making Agents\")\n",
    "\n",
    "int_slider2 = widgets.IntSlider(min=0, max=1000, value=102, step=1, description=\"Value Agents\")\n",
    "int_slider3 = widgets.IntSlider(min=0, max=200, value=12, step=1, description=\"Momentum Agents\")\n",
    "int_slider4 = widgets.IntSlider(min=0, max=10000, value=1000, step=1, description=\"Noise Agents\")\n",
    "\n",
    "display(int_slider)\n",
    "display(int_slider2)\n",
    "display(int_slider3)\n",
    "display(int_slider4)"
   ]
  },
  {
   "cell_type": "code",
   "execution_count": 6,
   "metadata": {},
   "outputs": [],
   "source": [
    "def build_config(\n",
    "    seed=int(datetime.now().timestamp() * 1_000_000) % (2 ** 32 - 1),\n",
    "    date=\"20210205\",\n",
    "    end_time=\"10:00:00\",\n",
    "    stdout_log_level=\"INFO\",\n",
    "    ticker=\"ABM\",\n",
    "    starting_cash=10_000_000,  # Cash in this simulator is always in CENTS.\n",
    "    log_orders=True,  # if True log everything\n",
    "    # 1) Exchange Agent\n",
    "    book_logging=True,\n",
    "    book_log_depth=10,\n",
    "    stream_history_length=500,\n",
    "    exchange_log_orders=None,\n",
    "    # 2) Noise Agent\n",
    "    num_noise_agents=int_slider4.value,\n",
    "    # 3) Value Agents\n",
    "    num_value_agents=int_slider2.value,\n",
    "    r_bar=100_000,  # true mean fundamental value\n",
    "    kappa=1.67e-15,  # Value Agents appraisal of mean-reversion\n",
    "    lambda_a=5.7e-12,  # ValueAgent arrival rate\n",
    "    # oracle\n",
    "    kappa_oracle=1.67e-16,  # Mean-reversion of fundamental time series.\n",
    "    sigma_s=0,\n",
    "    fund_vol=5e-10,  # Volatility of fundamental time series.\n",
    "    megashock_lambda_a=2.77778e-18,\n",
    "    megashock_mean=1000,\n",
    "    megashock_var=50_000,\n",
    "    # 4) Market Maker Agents\n",
    "    # each elem of mm_params is tuple (window_size, pov, num_ticks, wake_up_freq, min_order_size)\n",
    "    mm_window_size=\"adaptive\",\n",
    "    mm_pov=0.025,\n",
    "    mm_num_ticks=10,\n",
    "    mm_wake_up_freq=\"60S\",\n",
    "    mm_min_order_size=1,\n",
    "    mm_skew_beta=0,\n",
    "    mm_price_skew=4,\n",
    "    mm_level_spacing=5,\n",
    "    mm_spread_alpha=0.75,\n",
    "    mm_backstop_quantity=0,\n",
    "    mm_cancel_limit_delay=50,  # 50 nanoseconds\n",
    "    # 5) Momentum Agents\n",
    "    num_momentum_agents=int_slider3.value,\n",
    "):\n",
    "    \"\"\"\n",
    "    create the background configuration for rmsc04\n",
    "    These are all the non-learning agent that will run in the simulation\n",
    "    :param seed: seed of the experiment\n",
    "    :type seed: int\n",
    "    :param log_orders: debug mode to print more\n",
    "    :return: all agents of the config\n",
    "    :rtype: list\n",
    "    \"\"\"\n",
    "\n",
    "    # fix seed\n",
    "    np.random.seed(seed)\n",
    "\n",
    "    def path_wrapper(pomegranate_model_json):\n",
    "        \"\"\"\n",
    "        temporary solution to manage calls from abides-gym or from the rest of the code base\n",
    "        TODO:find more general solution\n",
    "        :return:\n",
    "        :rtype:\n",
    "        \"\"\"\n",
    "        # get the  path of the file\n",
    "        path = os.getcwd()\n",
    "        if path.split(\"/\")[-1] == \"abides_gym\":\n",
    "            return \"../\" + pomegranate_model_json\n",
    "        else:\n",
    "            return pomegranate_model_json\n",
    "\n",
    "    mm_wake_up_freq = str_to_ns(mm_wake_up_freq)\n",
    "\n",
    "    # order size model\n",
    "    ORDER_SIZE_MODEL = OrderSizeModel()  # Order size model\n",
    "    # market marker derived parameters\n",
    "    #MM_PARAMS = [\n",
    "    #    (mm_window_size, mm_pov, mm_num_ticks, mm_wake_up_freq, mm_min_order_size),\n",
    "    #    (mm_window_size, mm_pov, mm_num_ticks, mm_wake_up_freq, mm_min_order_size),\n",
    "    #]\n",
    "    MM_PARAMS = []\n",
    "    for _ in range(int_slider.value):\n",
    "        MM_PARAMS.append((mm_window_size, mm_pov, mm_num_ticks, mm_wake_up_freq, mm_min_order_size))\n",
    "        \n",
    "    NUM_MM = len(MM_PARAMS)\n",
    "    # noise derived parameters\n",
    "    SIGMA_N = r_bar / 100  # observation noise variance\n",
    "\n",
    "    # date&time\n",
    "    DATE = int(pd.to_datetime(date).to_datetime64())\n",
    "    MKT_OPEN = DATE + str_to_ns(\"09:30:00\")\n",
    "    MKT_CLOSE = DATE + str_to_ns(end_time)\n",
    "    # These times needed for distribution of arrival times of Noise Agents\n",
    "    NOISE_MKT_OPEN = MKT_OPEN - str_to_ns(\"00:30:00\")\n",
    "    NOISE_MKT_CLOSE = DATE + str_to_ns(\"16:00:00\")\n",
    "\n",
    "    # oracle\n",
    "    symbols = {\n",
    "        ticker: {\n",
    "            \"r_bar\": r_bar,\n",
    "            \"kappa\": kappa_oracle,\n",
    "            \"sigma_s\": sigma_s,\n",
    "            \"fund_vol\": fund_vol,\n",
    "            \"megashock_lambda_a\": megashock_lambda_a,\n",
    "            \"megashock_mean\": megashock_mean,\n",
    "            \"megashock_var\": megashock_var,\n",
    "            \"random_state\": np.random.RandomState(\n",
    "                seed=np.random.randint(low=0, high=2 ** 32)\n",
    "            ),\n",
    "        }\n",
    "    }\n",
    "\n",
    "    oracle = SparseMeanRevertingOracle(MKT_OPEN, NOISE_MKT_CLOSE, symbols)\n",
    "\n",
    "    # Agent configuration\n",
    "    agent_count, agents, agent_types = 0, [], []\n",
    "\n",
    "    agents.extend(\n",
    "        [\n",
    "            ExchangeAgent(\n",
    "                id=0,\n",
    "                name=\"EXCHANGE_AGENT\",\n",
    "                type=\"ExchangeAgent\",\n",
    "                mkt_open=MKT_OPEN,\n",
    "                mkt_close=MKT_CLOSE,\n",
    "                symbols=[ticker],\n",
    "                book_logging=book_logging,\n",
    "                book_log_depth=book_log_depth,\n",
    "                log_orders=exchange_log_orders,\n",
    "                pipeline_delay=0,\n",
    "                computation_delay=0,\n",
    "                stream_history=stream_history_length,\n",
    "                random_state=np.random.RandomState(\n",
    "                    seed=np.random.randint(low=0, high=2 ** 32, dtype=\"uint64\")\n",
    "                ),\n",
    "            )\n",
    "        ]\n",
    "    )\n",
    "    agent_types.extend(\"ExchangeAgent\")\n",
    "    agent_count += 1\n",
    "\n",
    "    agents.extend(\n",
    "        [\n",
    "            NoiseAgent(\n",
    "                id=j,\n",
    "                name=\"NoiseAgent {}\".format(j),\n",
    "                type=\"NoiseAgent\",\n",
    "                symbol=ticker,\n",
    "                starting_cash=starting_cash,\n",
    "                wakeup_time=get_wake_time(NOISE_MKT_OPEN, NOISE_MKT_CLOSE),\n",
    "                log_orders=log_orders,\n",
    "                order_size_model=ORDER_SIZE_MODEL,\n",
    "                random_state=np.random.RandomState(\n",
    "                    seed=np.random.randint(low=0, high=2 ** 32, dtype=\"uint64\")\n",
    "                ),\n",
    "            )\n",
    "            for j in range(agent_count, agent_count + num_noise_agents)\n",
    "        ]\n",
    "    )\n",
    "    agent_count += num_noise_agents\n",
    "    agent_types.extend([\"NoiseAgent\"])\n",
    "\n",
    "    agents.extend(\n",
    "        [\n",
    "            ValueAgent(\n",
    "                id=j,\n",
    "                name=\"Value Agent {}\".format(j),\n",
    "                type=\"ValueAgent\",\n",
    "                symbol=ticker,\n",
    "                starting_cash=starting_cash,\n",
    "                sigma_n=SIGMA_N,\n",
    "                r_bar=r_bar,\n",
    "                kappa=kappa,\n",
    "                lambda_a=lambda_a,\n",
    "                log_orders=log_orders,\n",
    "                order_size_model=ORDER_SIZE_MODEL,\n",
    "                random_state=np.random.RandomState(\n",
    "                    seed=np.random.randint(low=0, high=2 ** 32, dtype=\"uint64\")\n",
    "                ),\n",
    "            )\n",
    "            for j in range(agent_count, agent_count + num_value_agents)\n",
    "        ]\n",
    "    )\n",
    "    agent_count += num_value_agents\n",
    "    agent_types.extend([\"ValueAgent\"])\n",
    "\n",
    "    agents.extend(\n",
    "        [\n",
    "            AdaptiveMarketMakerAgent(\n",
    "                id=j,\n",
    "                name=\"ADAPTIVE_POV_MARKET_MAKER_AGENT_{}\".format(j),\n",
    "                type=\"AdaptivePOVMarketMakerAgent\",\n",
    "                symbol=ticker,\n",
    "                starting_cash=starting_cash,\n",
    "                pov=MM_PARAMS[idx][1],\n",
    "                min_order_size=MM_PARAMS[idx][4],\n",
    "                window_size=MM_PARAMS[idx][0],\n",
    "                num_ticks=MM_PARAMS[idx][2],\n",
    "                wake_up_freq=MM_PARAMS[idx][3],\n",
    "                poisson_arrival=True,\n",
    "                cancel_limit_delay=mm_cancel_limit_delay,\n",
    "                skew_beta=mm_skew_beta,\n",
    "                price_skew_param=mm_price_skew,\n",
    "                level_spacing=mm_level_spacing,\n",
    "                spread_alpha=mm_spread_alpha,\n",
    "                backstop_quantity=mm_backstop_quantity,\n",
    "                log_orders=log_orders,\n",
    "                random_state=np.random.RandomState(\n",
    "                    seed=np.random.randint(low=0, high=2 ** 32, dtype=\"uint64\")\n",
    "                ),\n",
    "            )\n",
    "            for idx, j in enumerate(range(agent_count, agent_count + NUM_MM))\n",
    "        ]\n",
    "    )\n",
    "    agent_count += NUM_MM\n",
    "    agent_types.extend(\"POVMarketMakerAgent\")\n",
    "\n",
    "    agents.extend(\n",
    "        [\n",
    "            MomentumAgent(\n",
    "                id=j,\n",
    "                name=\"MOMENTUM_AGENT_{}\".format(j),\n",
    "                type=\"MomentumAgent\",\n",
    "                symbol=ticker,\n",
    "                starting_cash=starting_cash,\n",
    "                min_size=1,\n",
    "                max_size=10,\n",
    "                wake_up_freq=str_to_ns(\"37s\"),\n",
    "                poisson_arrival=True,\n",
    "                log_orders=log_orders,\n",
    "                order_size_model=ORDER_SIZE_MODEL,\n",
    "                random_state=np.random.RandomState(\n",
    "                    seed=np.random.randint(low=0, high=2 ** 32, dtype=\"uint64\")\n",
    "                ),\n",
    "            )\n",
    "            for j in range(agent_count, agent_count + num_momentum_agents)\n",
    "        ]\n",
    "    )\n",
    "    agent_count += num_momentum_agents\n",
    "    agent_types.extend(\"MomentumAgent\")\n",
    "\n",
    "    # extract kernel seed here to reproduce the state of random generator in old version\n",
    "    random_state_kernel = np.random.RandomState(\n",
    "        seed=np.random.randint(low=0, high=2 ** 32, dtype=\"uint64\")\n",
    "    )\n",
    "    # LATENCY\n",
    "    latency_model = generate_latency_model(agent_count)\n",
    "\n",
    "    default_computation_delay = 50  # 50 nanoseconds\n",
    "\n",
    "    ##kernel args\n",
    "    kernelStartTime = DATE\n",
    "    kernelStopTime = MKT_CLOSE + str_to_ns(\"1s\")\n",
    "\n",
    "    return {\n",
    "        \"seed\": seed,\n",
    "        \"start_time\": kernelStartTime,\n",
    "        \"stop_time\": kernelStopTime,\n",
    "        \"agents\": agents,\n",
    "        \"agent_latency_model\": latency_model,\n",
    "        \"default_computation_delay\": default_computation_delay,\n",
    "        \"custom_properties\": {\"oracle\": oracle},\n",
    "        \"random_state_kernel\": random_state_kernel,\n",
    "        \"stdout_log_level\": stdout_log_level,\n",
    "        }\n"
   ]
  },
  {
   "cell_type": "markdown",
   "metadata": {},
   "source": [
    "## Build runnable configuration"
   ]
  },
  {
   "cell_type": "markdown",
   "metadata": {},
   "source": [
    "Here we are generating/building a config from the config file rmsc04. \n",
    "The config object is a dictionnary containing key elements like, start time, end time, agents to be used, latency and computation delay models."
   ]
  },
  {
   "cell_type": "code",
   "execution_count": 7,
   "metadata": {},
   "outputs": [
    {
     "data": {
      "application/vnd.jupyter.widget-view+json": {
       "model_id": "089cca46dea941239e30f0e5384afbd6",
       "version_major": 2,
       "version_minor": 0
      },
      "text/plain": [
       "IntSlider(value=2, description='Market Making Agents', max=10, min=1)"
      ]
     },
     "execution_count": 7,
     "metadata": {},
     "output_type": "execute_result"
    }
   ],
   "source": [
    "int_slider = widgets.IntSlider(min=1, max=10, value=2, step=1, description=\"Market Making Agents\")\n",
    "\n",
    "int_slider2 = widgets.IntSlider(min=0, max=1000, value=102, step=1, description=\"Value Agents\")\n",
    "int_slider3 = widgets.IntSlider(min=0, max=200, value=12, step=1, description=\"Momentum Agents\")\n",
    "int_slider4 = widgets.IntSlider(min=0, max=10000, value=1000, step=1, description=\"Noise Agents\")\n",
    "\n",
    "int_slider\n"
   ]
  },
  {
   "cell_type": "code",
   "execution_count": 8,
   "metadata": {},
   "outputs": [
    {
     "data": {
      "application/vnd.jupyter.widget-view+json": {
       "model_id": "0fde028f16de4125aa908a3b828efd9c",
       "version_major": 2,
       "version_minor": 0
      },
      "text/plain": [
       "IntSlider(value=102, description='Value Agents', max=1000)"
      ]
     },
     "execution_count": 8,
     "metadata": {},
     "output_type": "execute_result"
    }
   ],
   "source": [
    "int_slider2"
   ]
  },
  {
   "cell_type": "code",
   "execution_count": 9,
   "metadata": {},
   "outputs": [
    {
     "data": {
      "application/vnd.jupyter.widget-view+json": {
       "model_id": "1f1f4fe582224ad6b512b88046a2f57a",
       "version_major": 2,
       "version_minor": 0
      },
      "text/plain": [
       "IntSlider(value=12, description='Momentum Agents', max=200)"
      ]
     },
     "execution_count": 9,
     "metadata": {},
     "output_type": "execute_result"
    }
   ],
   "source": [
    "int_slider3"
   ]
  },
  {
   "cell_type": "code",
   "execution_count": 10,
   "metadata": {},
   "outputs": [
    {
     "data": {
      "application/vnd.jupyter.widget-view+json": {
       "model_id": "dfb418fb524b4cf389a99afbc165b16d",
       "version_major": 2,
       "version_minor": 0
      },
      "text/plain": [
       "IntSlider(value=1000, description='Noise Agents', max=10000)"
      ]
     },
     "execution_count": 10,
     "metadata": {},
     "output_type": "execute_result"
    }
   ],
   "source": [
    "int_slider4"
   ]
  },
  {
   "cell_type": "code",
   "execution_count": 74,
   "metadata": {},
   "outputs": [],
   "source": [
    "config = build_config()\n",
    "plot_name = \"m_m_alpha\""
   ]
  },
  {
   "cell_type": "code",
   "execution_count": 67,
   "metadata": {},
   "outputs": [
    {
     "data": {
      "text/plain": [
       "dict_keys(['seed', 'start_time', 'stop_time', 'agents', 'agent_latency_model', 'default_computation_delay', 'custom_properties', 'random_state_kernel', 'stdout_log_level'])"
      ]
     },
     "execution_count": 67,
     "metadata": {},
     "output_type": "execute_result"
    }
   ],
   "source": [
    "config.keys()"
   ]
  },
  {
   "cell_type": "markdown",
   "metadata": {},
   "source": [
    "## Running simulation"
   ]
  },
  {
   "cell_type": "markdown",
   "metadata": {},
   "source": [
    "Once the config is ready it can be run using the abides runner function.\n",
    "It instanciates a simulation kernel, runs the configuration and returns an end_state that mostly contains pointers to the different agent objects.\n",
    "The agents are in their final state, their internal variables can be accessed to extract informations of interests like logs."
   ]
  },
  {
   "cell_type": "code",
   "execution_count": 75,
   "metadata": {},
   "outputs": [
    {
     "name": "stderr",
     "output_type": "stream",
     "text": [
      "[1661324] INFO abides Simulation Start Time: 2023-01-31 23:11:40.181974\n",
      "[1661324] INFO abides_core.kernel --- Simulation time: 2021-02-05 00:00:00, messages processed: 0, wallclock elapsed: 0.00s ---\n",
      "[1661324] INFO abides_core.kernel --- Simulation time: 2021-02-05 09:48:42, messages processed: 100,000, wallclock elapsed: 7.39s ---\n",
      "[1661324] INFO abides_core.kernel Event Queue elapsed: 0:00:11.724533, messages: 160,085, messages per second: 13653.8\n",
      "[1661324] INFO abides_core.kernel Mean ending value by agent type:\n",
      "[1661324] INFO abides_core.kernel NoiseAgent: -29\n",
      "[1661324] INFO abides_core.kernel ValueAgent: 636\n",
      "[1661324] INFO abides_core.kernel AdaptivePOVMarketMakerAgent: -3554\n",
      "[1661324] INFO abides_core.kernel MomentumAgent: -68\n",
      "[1661324] INFO abides_core.kernel Simulation ending!\n",
      "[1661324] INFO abides Simulation End Time: 2023-01-31 23:11:53.312189\n",
      "[1661324] INFO abides Time taken to run simulation: 0:00:13.130215\n"
     ]
    }
   ],
   "source": [
    "end_state = abides.run( config )"
   ]
  },
  {
   "cell_type": "markdown",
   "metadata": {},
   "source": [
    "## Retrieving results from end_state"
   ]
  },
  {
   "cell_type": "markdown",
   "metadata": {},
   "source": [
    "By convention in abides_markets configuration the first agent is the exchange agent. \n",
    "It contains an order_book. By default it logs its history."
   ]
  },
  {
   "cell_type": "code",
   "execution_count": 76,
   "metadata": {},
   "outputs": [],
   "source": [
    "order_book = end_state[\"agents\"][0].order_books[\"ABM\"]"
   ]
  },
  {
   "cell_type": "markdown",
   "metadata": {},
   "source": [
    "### Order book history L1"
   ]
  },
  {
   "cell_type": "markdown",
   "metadata": {},
   "source": [
    "L1 data snapshots for every tick can be extracted\n",
    "( best bid and ask price and quantity )"
   ]
  },
  {
   "cell_type": "code",
   "execution_count": 77,
   "metadata": {},
   "outputs": [],
   "source": [
    "L1 = order_book.get_L1_snapshots()"
   ]
  },
  {
   "cell_type": "markdown",
   "metadata": {},
   "source": [
    "Here we plot the time series of the best bid and best ask price thoughout the simulation"
   ]
  },
  {
   "cell_type": "code",
   "execution_count": 78,
   "metadata": {},
   "outputs": [
    {
     "data": {
      "image/png": "[encoded data removed]",
      "text/plain": [
       "<Figure size 640x480 with 1 Axes>"
      ]
     },
     "metadata": {},
     "output_type": "display_data"
    }
   ],
   "source": [
    "best_bids = pd.DataFrame(L1[\"best_bids\"],columns=[\"time\",\"price\",\"qty\"])\n",
    "best_asks = pd.DataFrame(L1[\"best_asks\"],columns=[\"time\",\"price\",\"qty\"])\n",
    "\n",
    "## All times are in ns from 1970, remove the date component to put them in ns from midnight\n",
    "best_bids[\"time\"] = best_bids[\"time\"].apply( lambda x: x - ns_date(x) )\n",
    "best_asks[\"time\"] = best_asks[\"time\"].apply( lambda x: x - ns_date(x) )\n",
    "\n",
    "plt.plot(best_bids.time,best_bids.price)\n",
    "plt.plot(best_asks.time,best_asks.price)\n",
    "\n",
    "band = 200\n",
    "plt.ylim(100_000-band,100_000+band)\n",
    "\n",
    "time_mesh = np.arange(\n",
    "    str_to_ns(\"09:30:00\"),\n",
    "    str_to_ns(\"10:10:00\"),\n",
    "    1e9*60*10\n",
    ")\n",
    "_=plt.xticks(time_mesh, [ fmt_ts(time).split(\" \")[1] for time in time_mesh], rotation=60 )\n",
    "\n",
    "plt.savefig(\"plots/\" + plot_name + \"L1.pdf\")"
   ]
  },
  {
   "cell_type": "markdown",
   "metadata": {},
   "source": [
    "### Order book history L2"
   ]
  },
  {
   "cell_type": "markdown",
   "metadata": {},
   "source": [
    "L2 data snapshots for every tick can be extracted\n",
    "( bids and asks price and quantity for every orderbook level. Here max depth logged is a parameter of the simulation and max number of levels we want to retrieve from the orderbook after the simulation is a parameter too)"
   ]
  },
  {
   "cell_type": "code",
   "execution_count": 79,
   "metadata": {},
   "outputs": [],
   "source": [
    "L2 = order_book.get_L2_snapshots(nlevels=10)"
   ]
  },
  {
   "cell_type": "markdown",
   "metadata": {},
   "source": [
    "As an illustration we plot the time series of the fifth best bid price and fifth best ask price throughout the simulation"
   ]
  },
  {
   "cell_type": "code",
   "execution_count": 80,
   "metadata": {},
   "outputs": [
    {
     "data": {
      "image/png": "[encoded data removed]",
      "text/plain": [
       "<Figure size 640x480 with 1 Axes>"
      ]
     },
     "metadata": {},
     "output_type": "display_data"
    }
   ],
   "source": [
    "## plotting fifth best bid and fifth best ask\n",
    "times = [ t - ns_date(t) for t in L2[\"times\"] ]\n",
    "plt.scatter( times, L2[\"bids\"][:,5,0], s=.5 )\n",
    "plt.scatter( times, L2[\"asks\"][:,5,0], s=.5 )\n",
    "\n",
    "band = 200\n",
    "plt.ylim(100_000-band,100_000+band)\n",
    "\n",
    "_=plt.xticks(time_mesh, [ fmt_ts(time).split(\" \")[1] for time in time_mesh], rotation=60 )\n",
    "plt.savefig(\"plots/\"+ plot_name+ \"L2.pdf\")\n"
   ]
  },
  {
   "cell_type": "markdown",
   "metadata": {},
   "source": [
    "### Looking at agents logs"
   ]
  },
  {
   "cell_type": "markdown",
   "metadata": {},
   "source": [
    "All agents can be inspected to retrieve desired information. \n",
    "The utility parse_logs_df for instance provides a quick way to retrieve and aggregate the log variables of each agent in a single dataframe"
   ]
  },
  {
   "cell_type": "code",
   "execution_count": null,
   "metadata": {},
   "outputs": [],
   "source": [
    "logs_df = parse_logs_df( end_state )"
   ]
  },
  {
   "cell_type": "markdown",
   "metadata": {},
   "source": [
    "#### Histogram of order submission times for noise agents"
   ]
  },
  {
   "cell_type": "markdown",
   "metadata": {},
   "source": [
    "As an illustration we retrieve the submission times of all the orders sent by noise agent and display the histogram of all these times"
   ]
  },
  {
   "cell_type": "code",
   "execution_count": null,
   "metadata": {},
   "outputs": [
    {
     "data": {
      "text/plain": [
       "(array([  0.,   0.,   0.,   0.,   0., 148.,   0.,   0.,   0.,   0.]),\n",
       " array([-0.5, -0.4, -0.3, -0.2, -0.1,  0. ,  0.1,  0.2,  0.3,  0.4,  0.5]),\n",
       " <BarContainer object of 10 artists>)"
      ]
     },
     "execution_count": 93,
     "metadata": {},
     "output_type": "execute_result"
    },
    {
     "data": {
      "image/png": "[encoded data removed]",
      "text/plain": [
       "<Figure size 640x480 with 1 Axes>"
      ]
     },
     "metadata": {},
     "output_type": "display_data"
    }
   ],
   "source": [
    "plt.hist( logs_df[ (logs_df.agent_type == \"NoiseAgent\") & (logs_df.EventType==\"ORDER_SUBMITTED\") ].EventTime.apply(lambda x: x - ns_date(x) )  )\n",
    "\n",
    "#_=plt.xticks(time_mesh, [ fmt_ts(time).split(\" \")[1] for time in time_mesh], rotation=60 )\n",
    "\n",
    "\n",
    "\n"
   ]
  },
  {
   "cell_type": "markdown",
   "metadata": {},
   "source": [
    "We proceed the same way for value agents as well"
   ]
  },
  {
   "cell_type": "code",
   "execution_count": null,
   "metadata": {},
   "outputs": [
    {
     "data": {
      "image/png": "[encoded data removed]",
      "text/plain": [
       "<Figure size 640x480 with 1 Axes>"
      ]
     },
     "metadata": {},
     "output_type": "display_data"
    }
   ],
   "source": [
    "plt.hist( logs_df[ (logs_df.agent_type == \"MomentumAgent\") & (logs_df.EventType==\"ORDER_SUBMITTED\") ].EventTime.apply(lambda x: x - ns_date(x) )  )\n",
    "\n",
    "_=plt.xticks(time_mesh, [ fmt_ts(time).split(\" \")[1] for time in time_mesh], rotation=60 )"
   ]
  },
  {
   "cell_type": "code",
   "execution_count": null,
   "metadata": {},
   "outputs": [],
   "source": []
  }
 ],
 "metadata": {
  "kernelspec": {
   "display_name": "Python 3 (ipykernel)",
   "language": "python",
   "name": "python3"
  },
  "language_info": {
   "codemirror_mode": {
    "name": "ipython",
    "version": 3
   },
   "file_extension": ".py",
   "mimetype": "text/x-python",
   "name": "python",
   "nbconvert_exporter": "python",
   "pygments_lexer": "ipython3",
   "version": "3.8.10"
  },
  "vscode": {
   "interpreter": {
    "hash": "916dbcbb3f70747c44a77c7bcd40155683ae19c65e1c03b4aa3499c5328201f1"
   }
  }
 },
 "nbformat": 4,
 "nbformat_minor": 4
}
